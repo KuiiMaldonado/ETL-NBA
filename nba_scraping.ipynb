{
 "cells": [
  {
   "cell_type": "code",
   "execution_count": 1,
   "metadata": {},
   "outputs": [],
   "source": [
    "# Imports\n",
    "import pandas as pd\n",
    "import os \n",
    "from bs4 import BeautifulSoup as bs\n",
    "from splinter import Browser\n",
    "import traceback\n",
    "from time import sleep"
   ]
  },
  {
   "cell_type": "code",
   "execution_count": 2,
   "metadata": {},
   "outputs": [],
   "source": [
    "#Method for scraping the tables from website.\n",
    "# @param [integer]startingSeason - most recent season you want to get\n",
    "# @param [integer]numberOfSeasons - number of seasons you want to get\n",
    "# @param \n",
    "def scrapeTables(startingSeason, numberOfSeasons, startingObj):\n",
    "    dictionary = {}\n",
    "    for x in range(startingObj, (startingObj - numberOfSeasons), -1):\n",
    "        element = browser.find_by_name('Season').first\n",
    "        element.select(f'object:{x}')\n",
    "        sleep(1)\n",
    "\n",
    "        #Finding the stats table element in html\n",
    "        html = browser.html\n",
    "        soup = bs(html, 'html.parser')\n",
    "        season_table = soup.table\n",
    "        season_df = pd.read_html(season_table.prettify(), flavor='bs4')[0]\n",
    "\n",
    "        #Store each season dataframe in the dictionary\n",
    "        dictionary[f'{startingSeason}'] = season_df.copy()\n",
    "        startingSeason += 1\n",
    "    \n",
    "    return dictionary"
   ]
  },
  {
   "cell_type": "code",
   "execution_count": 3,
   "metadata": {},
   "outputs": [],
   "source": [
    "path= os.path.join('ChromeDriver','chromedriver.exe')\n",
    "executable_path = {'executable_path':path}\n",
    "\n",
    "browser = Browser('chrome', **executable_path, headless=False)"
   ]
  },
  {
   "cell_type": "markdown",
   "metadata": {},
   "source": [
    "# Extracting data from the webiste"
   ]
  },
  {
   "cell_type": "code",
   "execution_count": 4,
   "metadata": {},
   "outputs": [],
   "source": [
    "# Visit the following URL\n",
    "url = \"https://stats.nba.com/\"\n",
    "browser.visit(url)"
   ]
  },
  {
   "cell_type": "markdown",
   "metadata": {},
   "source": [
    "### Seasons filtered by points per game"
   ]
  },
  {
   "cell_type": "code",
   "execution_count": 5,
   "metadata": {},
   "outputs": [
    {
     "name": "stderr",
     "output_type": "stream",
     "text": [
      "D:\\Anaconda3\\lib\\site-packages\\splinter\\driver\\webdriver\\__init__.py:528: FutureWarning: browser.find_link_by_partial_text is deprecated. Use browser.links.find_by_partial_text instead.\n",
      "  FutureWarning,\n"
     ]
    }
   ],
   "source": [
    "#Navigate through website the get the stats table of best players (points) from seasons\n",
    "\n",
    "browser.click_link_by_partial_text('See all Player Stats')\n",
    "sleep(1)\n",
    "html = browser.html\n",
    "soup = bs(html, 'html.parser')\n",
    "\n",
    "seasons_dict = scrapeTables(2017, 3, 10)"
   ]
  },
  {
   "cell_type": "markdown",
   "metadata": {},
   "source": [
    "### Seasons filtered by assists per game"
   ]
  },
  {
   "cell_type": "code",
   "execution_count": 6,
   "metadata": {},
   "outputs": [],
   "source": [
    "#Navigate through website the get the stats table of best players (assits) from seasons\n",
    "#element = browser.find_by_name('StatCategory').first\n",
    "#element.select(f'object:96')\n",
    "#sleep(1)\n",
    "\n",
    "#ast_dict = scrapeTables(2017, 3, 10)"
   ]
  },
  {
   "cell_type": "markdown",
   "metadata": {},
   "source": [
    "### Seasons filtered by blocks per game"
   ]
  },
  {
   "cell_type": "code",
   "execution_count": 7,
   "metadata": {},
   "outputs": [],
   "source": [
    "#Navigate through website the get the stats table of best players (blocks) from seasons\n",
    "#element = browser.find_by_name('StatCategory').first\n",
    "#element.select(f'object:98')\n",
    "#sleep(1)\n",
    "\n",
    "#blk_dict = scrapeTables(2017, 3, 10)"
   ]
  },
  {
   "cell_type": "markdown",
   "metadata": {},
   "source": [
    "# Modifying the data"
   ]
  },
  {
   "cell_type": "code",
   "execution_count": 8,
   "metadata": {},
   "outputs": [
    {
     "data": {
      "text/html": [
       "<div>\n",
       "<style scoped>\n",
       "    .dataframe tbody tr th:only-of-type {\n",
       "        vertical-align: middle;\n",
       "    }\n",
       "\n",
       "    .dataframe tbody tr th {\n",
       "        vertical-align: top;\n",
       "    }\n",
       "\n",
       "    .dataframe thead th {\n",
       "        text-align: right;\n",
       "    }\n",
       "</style>\n",
       "<table border=\"1\" class=\"dataframe\">\n",
       "  <thead>\n",
       "    <tr style=\"text-align: right;\">\n",
       "      <th></th>\n",
       "      <th>#</th>\n",
       "      <th>Player</th>\n",
       "      <th>GP</th>\n",
       "      <th>MIN</th>\n",
       "      <th>PTS</th>\n",
       "      <th>FGM</th>\n",
       "      <th>FGA</th>\n",
       "      <th>FG%</th>\n",
       "      <th>3PM</th>\n",
       "      <th>3PA</th>\n",
       "      <th>...</th>\n",
       "      <th>FTA</th>\n",
       "      <th>FT%</th>\n",
       "      <th>OREB</th>\n",
       "      <th>DREB</th>\n",
       "      <th>REB</th>\n",
       "      <th>AST</th>\n",
       "      <th>STL</th>\n",
       "      <th>BLK</th>\n",
       "      <th>TOV</th>\n",
       "      <th>EFF</th>\n",
       "    </tr>\n",
       "  </thead>\n",
       "  <tbody>\n",
       "    <tr>\n",
       "      <td>0</td>\n",
       "      <td>1</td>\n",
       "      <td>James Harden</td>\n",
       "      <td>78</td>\n",
       "      <td>36.8</td>\n",
       "      <td>36.1</td>\n",
       "      <td>10.8</td>\n",
       "      <td>24.5</td>\n",
       "      <td>44.2</td>\n",
       "      <td>4.8</td>\n",
       "      <td>13.2</td>\n",
       "      <td>...</td>\n",
       "      <td>11.0</td>\n",
       "      <td>87.9</td>\n",
       "      <td>0.8</td>\n",
       "      <td>5.8</td>\n",
       "      <td>6.6</td>\n",
       "      <td>7.5</td>\n",
       "      <td>2.0</td>\n",
       "      <td>0.7</td>\n",
       "      <td>5.0</td>\n",
       "      <td>33.1</td>\n",
       "    </tr>\n",
       "    <tr>\n",
       "      <td>1</td>\n",
       "      <td>2</td>\n",
       "      <td>Paul George</td>\n",
       "      <td>77</td>\n",
       "      <td>36.9</td>\n",
       "      <td>28.0</td>\n",
       "      <td>9.2</td>\n",
       "      <td>21.0</td>\n",
       "      <td>43.8</td>\n",
       "      <td>3.8</td>\n",
       "      <td>9.8</td>\n",
       "      <td>...</td>\n",
       "      <td>7.0</td>\n",
       "      <td>83.9</td>\n",
       "      <td>1.4</td>\n",
       "      <td>6.8</td>\n",
       "      <td>8.2</td>\n",
       "      <td>4.1</td>\n",
       "      <td>2.2</td>\n",
       "      <td>0.4</td>\n",
       "      <td>2.7</td>\n",
       "      <td>27.4</td>\n",
       "    </tr>\n",
       "    <tr>\n",
       "      <td>2</td>\n",
       "      <td>3</td>\n",
       "      <td>Giannis Antetokounmpo</td>\n",
       "      <td>72</td>\n",
       "      <td>32.8</td>\n",
       "      <td>27.7</td>\n",
       "      <td>10.0</td>\n",
       "      <td>17.3</td>\n",
       "      <td>57.8</td>\n",
       "      <td>0.7</td>\n",
       "      <td>2.8</td>\n",
       "      <td>...</td>\n",
       "      <td>9.5</td>\n",
       "      <td>72.9</td>\n",
       "      <td>2.2</td>\n",
       "      <td>10.3</td>\n",
       "      <td>12.5</td>\n",
       "      <td>5.9</td>\n",
       "      <td>1.3</td>\n",
       "      <td>1.5</td>\n",
       "      <td>3.7</td>\n",
       "      <td>35.3</td>\n",
       "    </tr>\n",
       "    <tr>\n",
       "      <td>3</td>\n",
       "      <td>4</td>\n",
       "      <td>Joel Embiid</td>\n",
       "      <td>64</td>\n",
       "      <td>33.7</td>\n",
       "      <td>27.5</td>\n",
       "      <td>9.1</td>\n",
       "      <td>18.7</td>\n",
       "      <td>48.4</td>\n",
       "      <td>1.2</td>\n",
       "      <td>4.1</td>\n",
       "      <td>...</td>\n",
       "      <td>10.1</td>\n",
       "      <td>80.4</td>\n",
       "      <td>2.5</td>\n",
       "      <td>11.1</td>\n",
       "      <td>13.6</td>\n",
       "      <td>3.7</td>\n",
       "      <td>0.7</td>\n",
       "      <td>1.9</td>\n",
       "      <td>3.5</td>\n",
       "      <td>32.2</td>\n",
       "    </tr>\n",
       "    <tr>\n",
       "      <td>4</td>\n",
       "      <td>5</td>\n",
       "      <td>Stephen Curry</td>\n",
       "      <td>69</td>\n",
       "      <td>33.8</td>\n",
       "      <td>27.3</td>\n",
       "      <td>9.2</td>\n",
       "      <td>19.4</td>\n",
       "      <td>47.2</td>\n",
       "      <td>5.1</td>\n",
       "      <td>11.7</td>\n",
       "      <td>...</td>\n",
       "      <td>4.2</td>\n",
       "      <td>91.6</td>\n",
       "      <td>0.7</td>\n",
       "      <td>4.7</td>\n",
       "      <td>5.3</td>\n",
       "      <td>5.2</td>\n",
       "      <td>1.3</td>\n",
       "      <td>0.4</td>\n",
       "      <td>2.8</td>\n",
       "      <td>26.1</td>\n",
       "    </tr>\n",
       "  </tbody>\n",
       "</table>\n",
       "<p>5 rows × 22 columns</p>\n",
       "</div>"
      ],
      "text/plain": [
       "   #                 Player  GP   MIN   PTS   FGM   FGA   FG%  3PM   3PA  ...  \\\n",
       "0  1           James Harden  78  36.8  36.1  10.8  24.5  44.2  4.8  13.2  ...   \n",
       "1  2            Paul George  77  36.9  28.0   9.2  21.0  43.8  3.8   9.8  ...   \n",
       "2  3  Giannis Antetokounmpo  72  32.8  27.7  10.0  17.3  57.8  0.7   2.8  ...   \n",
       "3  4            Joel Embiid  64  33.7  27.5   9.1  18.7  48.4  1.2   4.1  ...   \n",
       "4  5          Stephen Curry  69  33.8  27.3   9.2  19.4  47.2  5.1  11.7  ...   \n",
       "\n",
       "    FTA   FT%  OREB  DREB   REB  AST  STL  BLK  TOV   EFF  \n",
       "0  11.0  87.9   0.8   5.8   6.6  7.5  2.0  0.7  5.0  33.1  \n",
       "1   7.0  83.9   1.4   6.8   8.2  4.1  2.2  0.4  2.7  27.4  \n",
       "2   9.5  72.9   2.2  10.3  12.5  5.9  1.3  1.5  3.7  35.3  \n",
       "3  10.1  80.4   2.5  11.1  13.6  3.7  0.7  1.9  3.5  32.2  \n",
       "4   4.2  91.6   0.7   4.7   5.3  5.2  1.3  0.4  2.8  26.1  \n",
       "\n",
       "[5 rows x 22 columns]"
      ]
     },
     "execution_count": 8,
     "metadata": {},
     "output_type": "execute_result"
    }
   ],
   "source": []
  },
  {
   "cell_type": "code",
   "execution_count": null,
   "metadata": {},
   "outputs": [],
   "source": []
  }
 ],
 "metadata": {
  "kernelspec": {
   "display_name": "Python 3",
   "language": "python",
   "name": "python3"
  },
  "language_info": {
   "codemirror_mode": {
    "name": "ipython",
    "version": 3
   },
   "file_extension": ".py",
   "mimetype": "text/x-python",
   "name": "python",
   "nbconvert_exporter": "python",
   "pygments_lexer": "ipython3",
   "version": "3.7.4"
  }
 },
 "nbformat": 4,
 "nbformat_minor": 2
}
