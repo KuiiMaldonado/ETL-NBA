{
 "cells": [
  {
   "cell_type": "code",
   "execution_count": 1,
   "metadata": {},
   "outputs": [],
   "source": [
    "# Imports\n",
    "import pandas as pd\n",
    "import os \n",
    "from bs4 import BeautifulSoup as bs\n",
    "from splinter import Browser\n",
    "from time import sleep"
   ]
  },
  {
   "cell_type": "code",
   "execution_count": 2,
   "metadata": {},
   "outputs": [],
   "source": [
    "#Method for scraping the tables from website.\n",
    "# @param [integer]startingSeason - most recent season you want to get\n",
    "# @param [integer]numberOfSeasons - number of seasons you want to get\n",
    "# @param \n",
    "def scrapeTables(startingSeason, numberOfSeasons, startingObj):\n",
    "    dictionary = {}\n",
    "    for x in range(startingObj, (startingObj - numberOfSeasons), -1):\n",
    "        element = browser.find_by_name('Season').first\n",
    "        element.select(f'object:{x}')\n",
    "        sleep(2)\n",
    "\n",
    "        #Finding the stats table element in html\n",
    "        html = browser.html\n",
    "        soup = bs(html, 'html.parser')\n",
    "        season_table = soup.table\n",
    "        season_df = pd.read_html(season_table.prettify(), flavor='bs4')[0]\n",
    "\n",
    "        #Store each season dataframe in the dictionary\n",
    "        dictionary[f'{startingSeason}'] = season_df.copy()\n",
    "        startingSeason += 1\n",
    "    \n",
    "    return dictionary"
   ]
  },
  {
   "cell_type": "code",
   "execution_count": 3,
   "metadata": {},
   "outputs": [],
   "source": [
    "path= os.path.join('ChromeDriver','chromedriver.exe')\n",
    "executable_path = {'executable_path':path}\n",
    "\n",
    "browser = Browser('chrome', **executable_path, headless=False)"
   ]
  },
  {
   "cell_type": "markdown",
   "metadata": {},
   "source": [
    "# Extracting data from the webiste"
   ]
  },
  {
   "cell_type": "code",
   "execution_count": 4,
   "metadata": {},
   "outputs": [],
   "source": [
    "# Visit the following URL\n",
    "url = \"https://stats.nba.com/\"\n",
    "browser.visit(url)"
   ]
  },
  {
   "cell_type": "markdown",
   "metadata": {},
   "source": [
    "### Players seasons tables"
   ]
  },
  {
   "cell_type": "code",
   "execution_count": 5,
   "metadata": {},
   "outputs": [
    {
     "name": "stderr",
     "output_type": "stream",
     "text": [
      "D:\\Anaconda3\\lib\\site-packages\\splinter\\driver\\webdriver\\__init__.py:528: FutureWarning: browser.find_link_by_partial_text is deprecated. Use browser.links.find_by_partial_text instead.\n",
      "  FutureWarning,\n"
     ]
    }
   ],
   "source": [
    "#Navigate through website the get the stats table of best players from seasons\n",
    "\n",
    "browser.click_link_by_partial_text('See all Player Stats')\n",
    "sleep(1)\n",
    "html = browser.html\n",
    "soup = bs(html, 'html.parser')\n",
    "\n",
    "startingSeason = 2000\n",
    "\n",
    "players_seasons_dict = scrapeTables(startingSeason, 20, 27)"
   ]
  },
  {
   "cell_type": "markdown",
   "metadata": {},
   "source": [
    "### Teams seasons tables "
   ]
  },
  {
   "cell_type": "code",
   "execution_count": 6,
   "metadata": {},
   "outputs": [],
   "source": [
    "#Navigate through website the get the stats table of best players from seasons\n",
    "\n",
    "browser.click_link_by_partial_text('Teams')\n",
    "sleep(1)\n",
    "\n",
    "browser.click_link_by_partial_text('See All Stats')\n",
    "sleep(1)\n",
    "\n",
    "html = browser.html\n",
    "soup = bs(html, 'html.parser')\n",
    "\n",
    "teams_seasons_dict = scrapeTables(startingSeason, 20, 27)"
   ]
  },
  {
   "cell_type": "markdown",
   "metadata": {},
   "source": [
    "# Modifying the data"
   ]
  },
  {
   "cell_type": "code",
   "execution_count": 7,
   "metadata": {},
   "outputs": [],
   "source": [
    "for season in range(startingSeason, (startingSeason + 20), 1):\n",
    "    players_seasons_dict[str(season)] = players_seasons_dict[str(season)][['#', 'Player', 'GP', 'PTS', 'REB', 'AST', 'BLK']]\n",
    "    teams_seasons_dict[str(season)].rename(columns={'Unnamed: 0':'#'}, inplace=True)\n",
    "    teams_seasons_dict[str(season)] = teams_seasons_dict[str(season)][['#', 'TEAM', 'GP', 'W', 'L', 'PTS']]"
   ]
  },
  {
   "cell_type": "code",
   "execution_count": 8,
   "metadata": {},
   "outputs": [
    {
     "data": {
      "text/html": [
       "<div>\n",
       "<style scoped>\n",
       "    .dataframe tbody tr th:only-of-type {\n",
       "        vertical-align: middle;\n",
       "    }\n",
       "\n",
       "    .dataframe tbody tr th {\n",
       "        vertical-align: top;\n",
       "    }\n",
       "\n",
       "    .dataframe thead th {\n",
       "        text-align: right;\n",
       "    }\n",
       "</style>\n",
       "<table border=\"1\" class=\"dataframe\">\n",
       "  <thead>\n",
       "    <tr style=\"text-align: right;\">\n",
       "      <th></th>\n",
       "      <th>#</th>\n",
       "      <th>TEAM</th>\n",
       "      <th>GP</th>\n",
       "      <th>W</th>\n",
       "      <th>L</th>\n",
       "      <th>PTS</th>\n",
       "    </tr>\n",
       "  </thead>\n",
       "  <tbody>\n",
       "    <tr>\n",
       "      <td>0</td>\n",
       "      <td>1</td>\n",
       "      <td>San Antonio Spurs</td>\n",
       "      <td>82</td>\n",
       "      <td>58</td>\n",
       "      <td>24</td>\n",
       "      <td>96.2</td>\n",
       "    </tr>\n",
       "    <tr>\n",
       "      <td>1</td>\n",
       "      <td>2</td>\n",
       "      <td>Los Angeles Lakers</td>\n",
       "      <td>82</td>\n",
       "      <td>56</td>\n",
       "      <td>26</td>\n",
       "      <td>100.6</td>\n",
       "    </tr>\n",
       "    <tr>\n",
       "      <td>2</td>\n",
       "      <td>2</td>\n",
       "      <td>Philadelphia 76ers</td>\n",
       "      <td>82</td>\n",
       "      <td>56</td>\n",
       "      <td>26</td>\n",
       "      <td>94.7</td>\n",
       "    </tr>\n",
       "    <tr>\n",
       "      <td>3</td>\n",
       "      <td>4</td>\n",
       "      <td>Sacramento Kings</td>\n",
       "      <td>82</td>\n",
       "      <td>55</td>\n",
       "      <td>27</td>\n",
       "      <td>101.7</td>\n",
       "    </tr>\n",
       "    <tr>\n",
       "      <td>4</td>\n",
       "      <td>5</td>\n",
       "      <td>Dallas Mavericks</td>\n",
       "      <td>82</td>\n",
       "      <td>53</td>\n",
       "      <td>29</td>\n",
       "      <td>100.5</td>\n",
       "    </tr>\n",
       "  </tbody>\n",
       "</table>\n",
       "</div>"
      ],
      "text/plain": [
       "   #                TEAM  GP   W   L    PTS\n",
       "0  1   San Antonio Spurs  82  58  24   96.2\n",
       "1  2  Los Angeles Lakers  82  56  26  100.6\n",
       "2  2  Philadelphia 76ers  82  56  26   94.7\n",
       "3  4    Sacramento Kings  82  55  27  101.7\n",
       "4  5    Dallas Mavericks  82  53  29  100.5"
      ]
     },
     "execution_count": 8,
     "metadata": {},
     "output_type": "execute_result"
    }
   ],
   "source": [
    "teams_seasons_dict['2000'].head()"
   ]
  },
  {
   "cell_type": "code",
   "execution_count": 9,
   "metadata": {},
   "outputs": [
    {
     "data": {
      "text/html": [
       "<div>\n",
       "<style scoped>\n",
       "    .dataframe tbody tr th:only-of-type {\n",
       "        vertical-align: middle;\n",
       "    }\n",
       "\n",
       "    .dataframe tbody tr th {\n",
       "        vertical-align: top;\n",
       "    }\n",
       "\n",
       "    .dataframe thead th {\n",
       "        text-align: right;\n",
       "    }\n",
       "</style>\n",
       "<table border=\"1\" class=\"dataframe\">\n",
       "  <thead>\n",
       "    <tr style=\"text-align: right;\">\n",
       "      <th></th>\n",
       "      <th>#</th>\n",
       "      <th>TEAM</th>\n",
       "      <th>GP</th>\n",
       "      <th>W</th>\n",
       "      <th>L</th>\n",
       "      <th>PTS</th>\n",
       "    </tr>\n",
       "  </thead>\n",
       "  <tbody>\n",
       "    <tr>\n",
       "      <td>0</td>\n",
       "      <td>1</td>\n",
       "      <td>Milwaukee Bucks</td>\n",
       "      <td>65</td>\n",
       "      <td>53</td>\n",
       "      <td>12</td>\n",
       "      <td>118.6</td>\n",
       "    </tr>\n",
       "    <tr>\n",
       "      <td>1</td>\n",
       "      <td>2</td>\n",
       "      <td>Los Angeles Lakers</td>\n",
       "      <td>63</td>\n",
       "      <td>49</td>\n",
       "      <td>14</td>\n",
       "      <td>114.3</td>\n",
       "    </tr>\n",
       "    <tr>\n",
       "      <td>2</td>\n",
       "      <td>3</td>\n",
       "      <td>Toronto Raptors</td>\n",
       "      <td>64</td>\n",
       "      <td>46</td>\n",
       "      <td>18</td>\n",
       "      <td>113.0</td>\n",
       "    </tr>\n",
       "    <tr>\n",
       "      <td>3</td>\n",
       "      <td>4</td>\n",
       "      <td>LA Clippers</td>\n",
       "      <td>64</td>\n",
       "      <td>44</td>\n",
       "      <td>20</td>\n",
       "      <td>116.2</td>\n",
       "    </tr>\n",
       "    <tr>\n",
       "      <td>4</td>\n",
       "      <td>5</td>\n",
       "      <td>Boston Celtics</td>\n",
       "      <td>64</td>\n",
       "      <td>43</td>\n",
       "      <td>21</td>\n",
       "      <td>113.0</td>\n",
       "    </tr>\n",
       "  </tbody>\n",
       "</table>\n",
       "</div>"
      ],
      "text/plain": [
       "   #                TEAM  GP   W   L    PTS\n",
       "0  1     Milwaukee Bucks  65  53  12  118.6\n",
       "1  2  Los Angeles Lakers  63  49  14  114.3\n",
       "2  3     Toronto Raptors  64  46  18  113.0\n",
       "3  4         LA Clippers  64  44  20  116.2\n",
       "4  5      Boston Celtics  64  43  21  113.0"
      ]
     },
     "execution_count": 9,
     "metadata": {},
     "output_type": "execute_result"
    }
   ],
   "source": [
    "teams_seasons_dict['2019'].head()"
   ]
  }
 ],
 "metadata": {
  "kernelspec": {
   "display_name": "Python 3",
   "language": "python",
   "name": "python3"
  },
  "language_info": {
   "codemirror_mode": {
    "name": "ipython",
    "version": 3
   },
   "file_extension": ".py",
   "mimetype": "text/x-python",
   "name": "python",
   "nbconvert_exporter": "python",
   "pygments_lexer": "ipython3",
   "version": "3.7.4"
  }
 },
 "nbformat": 4,
 "nbformat_minor": 2
}
